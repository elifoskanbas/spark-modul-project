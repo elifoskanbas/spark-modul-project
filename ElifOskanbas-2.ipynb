{
  "nbformat": 4,
  "nbformat_minor": 0,
  "metadata": {
    "colab": {
      "provenance": []
    },
    "kernelspec": {
      "name": "python3",
      "display_name": "Python 3"
    },
    "language_info": {
      "name": "python"
    }
  },
  "cells": [
    {
      "cell_type": "code",
      "execution_count": null,
      "metadata": {
        "colab": {
          "base_uri": "https://localhost:8080/"
        },
        "id": "ewYu5DLv_DMI",
        "outputId": "d14e97d2-9061-4fb7-8829-38980a3ff184"
      },
      "outputs": [
        {
          "output_type": "stream",
          "name": "stdout",
          "text": [
            "Requirement already satisfied: pyspark in /usr/local/lib/python3.11/dist-packages (3.5.5)\n",
            "Requirement already satisfied: py4j==0.10.9.7 in /usr/local/lib/python3.11/dist-packages (from pyspark) (0.10.9.7)\n"
          ]
        }
      ],
      "source": [
        "\n",
        "!pip install pyspark\n",
        "\n"
      ]
    },
    {
      "cell_type": "code",
      "source": [
        "from pyspark.sql import SparkSession\n",
        "\n",
        "# Spark oturumu başlatma\n",
        "spark = SparkSession.builder.appName(\"PySparkGoogleColab\").getOrCreate()\n",
        "\n",
        "# Spark sürümünü kontrol etme\n",
        "spark.version\n"
      ],
      "metadata": {
        "colab": {
          "base_uri": "https://localhost:8080/",
          "height": 35
        },
        "id": "BSb5SK7e_K3c",
        "outputId": "66c23010-5165-4b9d-f5f4-a8b297e807c7"
      },
      "execution_count": null,
      "outputs": [
        {
          "output_type": "execute_result",
          "data": {
            "text/plain": [
              "'3.5.5'"
            ],
            "application/vnd.google.colaboratory.intrinsic+json": {
              "type": "string"
            }
          },
          "metadata": {},
          "execution_count": 2
        }
      ]
    },
    {
      "cell_type": "code",
      "source": [
        "from google.colab import drive\n",
        "drive.mount('/content/drive')\n",
        "#Google drive’a bağlanma\n"
      ],
      "metadata": {
        "colab": {
          "base_uri": "https://localhost:8080/"
        },
        "id": "FetW3_In_QmP",
        "outputId": "c3c538cb-2582-4940-f24c-0a5086ebc757"
      },
      "execution_count": null,
      "outputs": [
        {
          "output_type": "stream",
          "name": "stdout",
          "text": [
            "Mounted at /content/drive\n"
          ]
        }
      ]
    },
    {
      "cell_type": "code",
      "source": [
        "file_path = '/content/drive/My Drive/sale.parquet'\n",
        "#Dosya yolunu belirleme\n"
      ],
      "metadata": {
        "id": "w2Afw4sM_-d3"
      },
      "execution_count": null,
      "outputs": []
    },
    {
      "cell_type": "code",
      "source": [
        "from google.colab import files\n",
        "uploaded = files.upload()\n",
        "#Dosya yükleme"
      ],
      "metadata": {
        "colab": {
          "base_uri": "https://localhost:8080/",
          "height": 276
        },
        "id": "4zxicDr9Bafe",
        "outputId": "780089f8-4d7d-4f57-ffb9-0885506e752d"
      },
      "execution_count": null,
      "outputs": [
        {
          "output_type": "display_data",
          "data": {
            "text/plain": [
              "<IPython.core.display.HTML object>"
            ],
            "text/html": [
              "\n",
              "     <input type=\"file\" id=\"files-2d976d0a-f4ee-4eb7-a3cb-36589e32c108\" name=\"files[]\" multiple disabled\n",
              "        style=\"border:none\" />\n",
              "     <output id=\"result-2d976d0a-f4ee-4eb7-a3cb-36589e32c108\">\n",
              "      Upload widget is only available when the cell has been executed in the\n",
              "      current browser session. Please rerun this cell to enable.\n",
              "      </output>\n",
              "      <script>// Copyright 2017 Google LLC\n",
              "//\n",
              "// Licensed under the Apache License, Version 2.0 (the \"License\");\n",
              "// you may not use this file except in compliance with the License.\n",
              "// You may obtain a copy of the License at\n",
              "//\n",
              "//      http://www.apache.org/licenses/LICENSE-2.0\n",
              "//\n",
              "// Unless required by applicable law or agreed to in writing, software\n",
              "// distributed under the License is distributed on an \"AS IS\" BASIS,\n",
              "// WITHOUT WARRANTIES OR CONDITIONS OF ANY KIND, either express or implied.\n",
              "// See the License for the specific language governing permissions and\n",
              "// limitations under the License.\n",
              "\n",
              "/**\n",
              " * @fileoverview Helpers for google.colab Python module.\n",
              " */\n",
              "(function(scope) {\n",
              "function span(text, styleAttributes = {}) {\n",
              "  const element = document.createElement('span');\n",
              "  element.textContent = text;\n",
              "  for (const key of Object.keys(styleAttributes)) {\n",
              "    element.style[key] = styleAttributes[key];\n",
              "  }\n",
              "  return element;\n",
              "}\n",
              "\n",
              "// Max number of bytes which will be uploaded at a time.\n",
              "const MAX_PAYLOAD_SIZE = 100 * 1024;\n",
              "\n",
              "function _uploadFiles(inputId, outputId) {\n",
              "  const steps = uploadFilesStep(inputId, outputId);\n",
              "  const outputElement = document.getElementById(outputId);\n",
              "  // Cache steps on the outputElement to make it available for the next call\n",
              "  // to uploadFilesContinue from Python.\n",
              "  outputElement.steps = steps;\n",
              "\n",
              "  return _uploadFilesContinue(outputId);\n",
              "}\n",
              "\n",
              "// This is roughly an async generator (not supported in the browser yet),\n",
              "// where there are multiple asynchronous steps and the Python side is going\n",
              "// to poll for completion of each step.\n",
              "// This uses a Promise to block the python side on completion of each step,\n",
              "// then passes the result of the previous step as the input to the next step.\n",
              "function _uploadFilesContinue(outputId) {\n",
              "  const outputElement = document.getElementById(outputId);\n",
              "  const steps = outputElement.steps;\n",
              "\n",
              "  const next = steps.next(outputElement.lastPromiseValue);\n",
              "  return Promise.resolve(next.value.promise).then((value) => {\n",
              "    // Cache the last promise value to make it available to the next\n",
              "    // step of the generator.\n",
              "    outputElement.lastPromiseValue = value;\n",
              "    return next.value.response;\n",
              "  });\n",
              "}\n",
              "\n",
              "/**\n",
              " * Generator function which is called between each async step of the upload\n",
              " * process.\n",
              " * @param {string} inputId Element ID of the input file picker element.\n",
              " * @param {string} outputId Element ID of the output display.\n",
              " * @return {!Iterable<!Object>} Iterable of next steps.\n",
              " */\n",
              "function* uploadFilesStep(inputId, outputId) {\n",
              "  const inputElement = document.getElementById(inputId);\n",
              "  inputElement.disabled = false;\n",
              "\n",
              "  const outputElement = document.getElementById(outputId);\n",
              "  outputElement.innerHTML = '';\n",
              "\n",
              "  const pickedPromise = new Promise((resolve) => {\n",
              "    inputElement.addEventListener('change', (e) => {\n",
              "      resolve(e.target.files);\n",
              "    });\n",
              "  });\n",
              "\n",
              "  const cancel = document.createElement('button');\n",
              "  inputElement.parentElement.appendChild(cancel);\n",
              "  cancel.textContent = 'Cancel upload';\n",
              "  const cancelPromise = new Promise((resolve) => {\n",
              "    cancel.onclick = () => {\n",
              "      resolve(null);\n",
              "    };\n",
              "  });\n",
              "\n",
              "  // Wait for the user to pick the files.\n",
              "  const files = yield {\n",
              "    promise: Promise.race([pickedPromise, cancelPromise]),\n",
              "    response: {\n",
              "      action: 'starting',\n",
              "    }\n",
              "  };\n",
              "\n",
              "  cancel.remove();\n",
              "\n",
              "  // Disable the input element since further picks are not allowed.\n",
              "  inputElement.disabled = true;\n",
              "\n",
              "  if (!files) {\n",
              "    return {\n",
              "      response: {\n",
              "        action: 'complete',\n",
              "      }\n",
              "    };\n",
              "  }\n",
              "\n",
              "  for (const file of files) {\n",
              "    const li = document.createElement('li');\n",
              "    li.append(span(file.name, {fontWeight: 'bold'}));\n",
              "    li.append(span(\n",
              "        `(${file.type || 'n/a'}) - ${file.size} bytes, ` +\n",
              "        `last modified: ${\n",
              "            file.lastModifiedDate ? file.lastModifiedDate.toLocaleDateString() :\n",
              "                                    'n/a'} - `));\n",
              "    const percent = span('0% done');\n",
              "    li.appendChild(percent);\n",
              "\n",
              "    outputElement.appendChild(li);\n",
              "\n",
              "    const fileDataPromise = new Promise((resolve) => {\n",
              "      const reader = new FileReader();\n",
              "      reader.onload = (e) => {\n",
              "        resolve(e.target.result);\n",
              "      };\n",
              "      reader.readAsArrayBuffer(file);\n",
              "    });\n",
              "    // Wait for the data to be ready.\n",
              "    let fileData = yield {\n",
              "      promise: fileDataPromise,\n",
              "      response: {\n",
              "        action: 'continue',\n",
              "      }\n",
              "    };\n",
              "\n",
              "    // Use a chunked sending to avoid message size limits. See b/62115660.\n",
              "    let position = 0;\n",
              "    do {\n",
              "      const length = Math.min(fileData.byteLength - position, MAX_PAYLOAD_SIZE);\n",
              "      const chunk = new Uint8Array(fileData, position, length);\n",
              "      position += length;\n",
              "\n",
              "      const base64 = btoa(String.fromCharCode.apply(null, chunk));\n",
              "      yield {\n",
              "        response: {\n",
              "          action: 'append',\n",
              "          file: file.name,\n",
              "          data: base64,\n",
              "        },\n",
              "      };\n",
              "\n",
              "      let percentDone = fileData.byteLength === 0 ?\n",
              "          100 :\n",
              "          Math.round((position / fileData.byteLength) * 100);\n",
              "      percent.textContent = `${percentDone}% done`;\n",
              "\n",
              "    } while (position < fileData.byteLength);\n",
              "  }\n",
              "\n",
              "  // All done.\n",
              "  yield {\n",
              "    response: {\n",
              "      action: 'complete',\n",
              "    }\n",
              "  };\n",
              "}\n",
              "\n",
              "scope.google = scope.google || {};\n",
              "scope.google.colab = scope.google.colab || {};\n",
              "scope.google.colab._files = {\n",
              "  _uploadFiles,\n",
              "  _uploadFilesContinue,\n",
              "};\n",
              "})(self);\n",
              "</script> "
            ]
          },
          "metadata": {}
        },
        {
          "output_type": "stream",
          "name": "stdout",
          "text": [
            "Saving retailer.parquet to retailer.parquet\n",
            "Saving customer.parquet to customer.parquet\n",
            "Saving date.parquet to date.parquet\n",
            "Saving product.parquet to product.parquet\n",
            "Saving purchase.parquet to purchase.parquet\n",
            "Saving region.parquet to region.parquet\n",
            "Saving supplier.parquet to supplier.parquet\n"
          ]
        }
      ]
    },
    {
      "cell_type": "code",
      "source": [
        "from google.colab import files\n",
        "uploaded = files.upload()\n",
        "#Dosya yükleme\n"
      ],
      "metadata": {
        "colab": {
          "base_uri": "https://localhost:8080/",
          "height": 69
        },
        "id": "Pco7bUvLBtMO",
        "outputId": "5ff5cadf-7dd7-4530-b257-e7a182c901cd"
      },
      "execution_count": null,
      "outputs": [
        {
          "output_type": "display_data",
          "data": {
            "text/plain": [
              "<IPython.core.display.HTML object>"
            ],
            "text/html": [
              "\n",
              "     <input type=\"file\" id=\"files-be2be6da-4abb-4e25-a0ea-00d8cbb1196b\" name=\"files[]\" multiple disabled\n",
              "        style=\"border:none\" />\n",
              "     <output id=\"result-be2be6da-4abb-4e25-a0ea-00d8cbb1196b\">\n",
              "      Upload widget is only available when the cell has been executed in the\n",
              "      current browser session. Please rerun this cell to enable.\n",
              "      </output>\n",
              "      <script>// Copyright 2017 Google LLC\n",
              "//\n",
              "// Licensed under the Apache License, Version 2.0 (the \"License\");\n",
              "// you may not use this file except in compliance with the License.\n",
              "// You may obtain a copy of the License at\n",
              "//\n",
              "//      http://www.apache.org/licenses/LICENSE-2.0\n",
              "//\n",
              "// Unless required by applicable law or agreed to in writing, software\n",
              "// distributed under the License is distributed on an \"AS IS\" BASIS,\n",
              "// WITHOUT WARRANTIES OR CONDITIONS OF ANY KIND, either express or implied.\n",
              "// See the License for the specific language governing permissions and\n",
              "// limitations under the License.\n",
              "\n",
              "/**\n",
              " * @fileoverview Helpers for google.colab Python module.\n",
              " */\n",
              "(function(scope) {\n",
              "function span(text, styleAttributes = {}) {\n",
              "  const element = document.createElement('span');\n",
              "  element.textContent = text;\n",
              "  for (const key of Object.keys(styleAttributes)) {\n",
              "    element.style[key] = styleAttributes[key];\n",
              "  }\n",
              "  return element;\n",
              "}\n",
              "\n",
              "// Max number of bytes which will be uploaded at a time.\n",
              "const MAX_PAYLOAD_SIZE = 100 * 1024;\n",
              "\n",
              "function _uploadFiles(inputId, outputId) {\n",
              "  const steps = uploadFilesStep(inputId, outputId);\n",
              "  const outputElement = document.getElementById(outputId);\n",
              "  // Cache steps on the outputElement to make it available for the next call\n",
              "  // to uploadFilesContinue from Python.\n",
              "  outputElement.steps = steps;\n",
              "\n",
              "  return _uploadFilesContinue(outputId);\n",
              "}\n",
              "\n",
              "// This is roughly an async generator (not supported in the browser yet),\n",
              "// where there are multiple asynchronous steps and the Python side is going\n",
              "// to poll for completion of each step.\n",
              "// This uses a Promise to block the python side on completion of each step,\n",
              "// then passes the result of the previous step as the input to the next step.\n",
              "function _uploadFilesContinue(outputId) {\n",
              "  const outputElement = document.getElementById(outputId);\n",
              "  const steps = outputElement.steps;\n",
              "\n",
              "  const next = steps.next(outputElement.lastPromiseValue);\n",
              "  return Promise.resolve(next.value.promise).then((value) => {\n",
              "    // Cache the last promise value to make it available to the next\n",
              "    // step of the generator.\n",
              "    outputElement.lastPromiseValue = value;\n",
              "    return next.value.response;\n",
              "  });\n",
              "}\n",
              "\n",
              "/**\n",
              " * Generator function which is called between each async step of the upload\n",
              " * process.\n",
              " * @param {string} inputId Element ID of the input file picker element.\n",
              " * @param {string} outputId Element ID of the output display.\n",
              " * @return {!Iterable<!Object>} Iterable of next steps.\n",
              " */\n",
              "function* uploadFilesStep(inputId, outputId) {\n",
              "  const inputElement = document.getElementById(inputId);\n",
              "  inputElement.disabled = false;\n",
              "\n",
              "  const outputElement = document.getElementById(outputId);\n",
              "  outputElement.innerHTML = '';\n",
              "\n",
              "  const pickedPromise = new Promise((resolve) => {\n",
              "    inputElement.addEventListener('change', (e) => {\n",
              "      resolve(e.target.files);\n",
              "    });\n",
              "  });\n",
              "\n",
              "  const cancel = document.createElement('button');\n",
              "  inputElement.parentElement.appendChild(cancel);\n",
              "  cancel.textContent = 'Cancel upload';\n",
              "  const cancelPromise = new Promise((resolve) => {\n",
              "    cancel.onclick = () => {\n",
              "      resolve(null);\n",
              "    };\n",
              "  });\n",
              "\n",
              "  // Wait for the user to pick the files.\n",
              "  const files = yield {\n",
              "    promise: Promise.race([pickedPromise, cancelPromise]),\n",
              "    response: {\n",
              "      action: 'starting',\n",
              "    }\n",
              "  };\n",
              "\n",
              "  cancel.remove();\n",
              "\n",
              "  // Disable the input element since further picks are not allowed.\n",
              "  inputElement.disabled = true;\n",
              "\n",
              "  if (!files) {\n",
              "    return {\n",
              "      response: {\n",
              "        action: 'complete',\n",
              "      }\n",
              "    };\n",
              "  }\n",
              "\n",
              "  for (const file of files) {\n",
              "    const li = document.createElement('li');\n",
              "    li.append(span(file.name, {fontWeight: 'bold'}));\n",
              "    li.append(span(\n",
              "        `(${file.type || 'n/a'}) - ${file.size} bytes, ` +\n",
              "        `last modified: ${\n",
              "            file.lastModifiedDate ? file.lastModifiedDate.toLocaleDateString() :\n",
              "                                    'n/a'} - `));\n",
              "    const percent = span('0% done');\n",
              "    li.appendChild(percent);\n",
              "\n",
              "    outputElement.appendChild(li);\n",
              "\n",
              "    const fileDataPromise = new Promise((resolve) => {\n",
              "      const reader = new FileReader();\n",
              "      reader.onload = (e) => {\n",
              "        resolve(e.target.result);\n",
              "      };\n",
              "      reader.readAsArrayBuffer(file);\n",
              "    });\n",
              "    // Wait for the data to be ready.\n",
              "    let fileData = yield {\n",
              "      promise: fileDataPromise,\n",
              "      response: {\n",
              "        action: 'continue',\n",
              "      }\n",
              "    };\n",
              "\n",
              "    // Use a chunked sending to avoid message size limits. See b/62115660.\n",
              "    let position = 0;\n",
              "    do {\n",
              "      const length = Math.min(fileData.byteLength - position, MAX_PAYLOAD_SIZE);\n",
              "      const chunk = new Uint8Array(fileData, position, length);\n",
              "      position += length;\n",
              "\n",
              "      const base64 = btoa(String.fromCharCode.apply(null, chunk));\n",
              "      yield {\n",
              "        response: {\n",
              "          action: 'append',\n",
              "          file: file.name,\n",
              "          data: base64,\n",
              "        },\n",
              "      };\n",
              "\n",
              "      let percentDone = fileData.byteLength === 0 ?\n",
              "          100 :\n",
              "          Math.round((position / fileData.byteLength) * 100);\n",
              "      percent.textContent = `${percentDone}% done`;\n",
              "\n",
              "    } while (position < fileData.byteLength);\n",
              "  }\n",
              "\n",
              "  // All done.\n",
              "  yield {\n",
              "    response: {\n",
              "      action: 'complete',\n",
              "    }\n",
              "  };\n",
              "}\n",
              "\n",
              "scope.google = scope.google || {};\n",
              "scope.google.colab = scope.google.colab || {};\n",
              "scope.google.colab._files = {\n",
              "  _uploadFiles,\n",
              "  _uploadFilesContinue,\n",
              "};\n",
              "})(self);\n",
              "</script> "
            ]
          },
          "metadata": {}
        },
        {
          "output_type": "stream",
          "name": "stdout",
          "text": [
            "Saving region.parquet to region (1).parquet\n"
          ]
        }
      ]
    },
    {
      "cell_type": "code",
      "source": [],
      "metadata": {
        "id": "UnIKgV_HC3Kd"
      },
      "execution_count": null,
      "outputs": []
    },
    {
      "cell_type": "code",
      "source": [
        "# Verileri yükleme\n",
        "sale_df = spark.read.parquet('/content/drive/My Drive/sale.parquet')\n",
        "region_df = spark.read.parquet('/content/drive/My Drive/region.parquet')\n",
        "\n",
        "# Veri setlerinin ilk birkaç satırına bakma\n",
        "sale_df.show()\n",
        "region_df.show()\n",
        "\n"
      ],
      "metadata": {
        "colab": {
          "base_uri": "https://localhost:8080/"
        },
        "id": "nnSM0JUcCTIU",
        "outputId": "da1f7ede-7dd5-486b-bb5a-7ae71feb08c5"
      },
      "execution_count": null,
      "outputs": [
        {
          "output_type": "stream",
          "name": "stdout",
          "text": [
            "+--------+----------+-----------+-----------+--------+---------+----------+\n",
            "|order_id|product_id|customer_id|retailer_id|quantity|total_amt|      date|\n",
            "+--------+----------+-----------+-----------+--------+---------+----------+\n",
            "|       1|       241|        551|          2|       1|       32|2023-08-30|\n",
            "|       1|       139|        551|          2|       1|       23|2023-08-30|\n",
            "|       1|        36|        551|          2|       1|       20|2023-08-30|\n",
            "|       1|       319|        551|          2|       1|       41|2023-08-30|\n",
            "|       1|         5|        551|          2|       1|       25|2023-08-30|\n",
            "|       2|       163|        286|          1|       2|       80|2023-08-30|\n",
            "|       2|       234|        286|          1|       2|       68|2023-08-30|\n",
            "|       2|       311|        286|          1|       1|       35|2023-08-30|\n",
            "|       3|       148|        889|          2|       3|      150|2023-06-30|\n",
            "|       3|        88|        889|          2|       1|       10|2023-06-30|\n",
            "|       4|       336|        138|          2|       1|       41|2023-07-22|\n",
            "|       4|        79|        138|          2|       1|       10|2023-07-22|\n",
            "|       4|       104|        138|          2|       2|       60|2023-07-22|\n",
            "|       4|       101|        138|          2|       1|       30|2023-07-22|\n",
            "|       4|       176|        138|          2|       2|      100|2023-07-22|\n",
            "|       5|        72|        517|          2|       1|       15|2023-04-17|\n",
            "|       5|       235|        517|          2|       1|       34|2023-04-17|\n",
            "|       5|        53|        517|          2|       1|       15|2023-04-17|\n",
            "|       6|        95|        447|          2|       1|       10|2023-01-05|\n",
            "|       6|       167|        447|          2|       2|       80|2023-01-05|\n",
            "+--------+----------+-----------+-----------+--------+---------+----------+\n",
            "only showing top 20 rows\n",
            "\n",
            "+-------+--------------+-----------------+\n",
            "|city_id|     city_name|      region_name|\n",
            "+-------+--------------+-----------------+\n",
            "|      1|         Adana|       Ic Anadolu|\n",
            "|      2|      Adiyaman|Guneydogu Anadolu|\n",
            "|      3|Afyonkarahisar|       Ic Anadolu|\n",
            "|      4|          Agri|     Dogu Anadolu|\n",
            "|      5|        Amasya|        Karadeniz|\n",
            "|      6|        Ankara|       Ic Anadolu|\n",
            "|      7|       Antalya|          Akdeniz|\n",
            "|      8|        Artvin|        Karadeniz|\n",
            "|      9|         Aydin|              Ege|\n",
            "|     10|     Balikesir|          Marmara|\n",
            "|     11|       Bilecik|          Marmara|\n",
            "|     12|        Bingol|     Dogu Anadolu|\n",
            "|     13|        Bitlis|     Dogu Anadolu|\n",
            "|     14|          Bolu|        Karadeniz|\n",
            "|     15|        Burdur|          Akdeniz|\n",
            "|     16|         Bursa|          Marmara|\n",
            "|     17|     Canakkale|          Marmara|\n",
            "|     18|       Cankiri|       Ic Anadolu|\n",
            "|     19|         Corum|        Karadeniz|\n",
            "|     20|       Denizli|              Ege|\n",
            "+-------+--------------+-----------------+\n",
            "only showing top 20 rows\n",
            "\n"
          ]
        }
      ]
    },
    {
      "cell_type": "code",
      "source": [
        "# Verileri yükleme\n",
        "sale_df = spark.read.parquet('/content/drive/My Drive/sale.parquet')\n",
        "region_df = spark.read.parquet('/content/drive/My Drive/region.parquet')\n",
        "\n",
        "# Verilerin ilk 5 satırını gösterme\n",
        "sale_df.show(5)\n",
        "region_df.show(5)\n"
      ],
      "metadata": {
        "colab": {
          "base_uri": "https://localhost:8080/"
        },
        "id": "l2670brxC49u",
        "outputId": "815efb25-aa16-48bb-b3a5-c4cb88a1c490"
      },
      "execution_count": null,
      "outputs": [
        {
          "output_type": "stream",
          "name": "stdout",
          "text": [
            "+--------+----------+-----------+-----------+--------+---------+----------+\n",
            "|order_id|product_id|customer_id|retailer_id|quantity|total_amt|      date|\n",
            "+--------+----------+-----------+-----------+--------+---------+----------+\n",
            "|       1|       241|        551|          2|       1|       32|2023-08-30|\n",
            "|       1|       139|        551|          2|       1|       23|2023-08-30|\n",
            "|       1|        36|        551|          2|       1|       20|2023-08-30|\n",
            "|       1|       319|        551|          2|       1|       41|2023-08-30|\n",
            "|       1|         5|        551|          2|       1|       25|2023-08-30|\n",
            "+--------+----------+-----------+-----------+--------+---------+----------+\n",
            "only showing top 5 rows\n",
            "\n",
            "+-------+--------------+-----------------+\n",
            "|city_id|     city_name|      region_name|\n",
            "+-------+--------------+-----------------+\n",
            "|      1|         Adana|       Ic Anadolu|\n",
            "|      2|      Adiyaman|Guneydogu Anadolu|\n",
            "|      3|Afyonkarahisar|       Ic Anadolu|\n",
            "|      4|          Agri|     Dogu Anadolu|\n",
            "|      5|        Amasya|        Karadeniz|\n",
            "+-------+--------------+-----------------+\n",
            "only showing top 5 rows\n",
            "\n"
          ]
        }
      ]
    },
    {
      "cell_type": "code",
      "source": [
        "# Verileri region_id ile birleştirme\n",
        "joined_df = sale_df.join(region_df, sale_df.retailer_id == region_df.city_id, 'inner')\n",
        "\n",
        "# \"Jacket\" ürünlerini filtreleme (product_id'yi 241 olarak varsayalım)\n",
        "jacket_sales_df = joined_df.filter(joined_df.product_id == 241)\n",
        "\n",
        "# Bölgeye göre satışları gruplama ve toplam satış miktarlarını hesaplama\n",
        "jacket_sales_per_region = jacket_sales_df.groupBy('region_name').agg({'quantity': 'sum', 'total_amt': 'sum'})\n",
        "\n",
        "# Sonuçları gösterme\n",
        "jacket_sales_per_region.show()\n"
      ],
      "metadata": {
        "colab": {
          "base_uri": "https://localhost:8080/"
        },
        "id": "bKrLiqosECzc",
        "outputId": "f7be4631-646f-4667-ff44-19844ea57e17"
      },
      "execution_count": null,
      "outputs": [
        {
          "output_type": "stream",
          "name": "stdout",
          "text": [
            "+-----------------+--------------+-------------+\n",
            "|      region_name|sum(total_amt)|sum(quantity)|\n",
            "+-----------------+--------------+-------------+\n",
            "|Guneydogu Anadolu|          1344|           42|\n",
            "|       Ic Anadolu|           832|           26|\n",
            "|     Dogu Anadolu|            96|            3|\n",
            "+-----------------+--------------+-------------+\n",
            "\n"
          ]
        }
      ]
    },
    {
      "cell_type": "code",
      "source": [
        "# DataFrame'i geçici bir görünüm olarak kaydetme\n",
        "joined_df.createOrReplaceTempView(\"sales_and_regions\")\n",
        "\n",
        "# Spark SQL sorgusu ile ceket satışlarını bölgelere göre gruplama\n",
        "sql_query = \"\"\"\n",
        "SELECT\n",
        "    region_name,\n",
        "    SUM(total_amt) AS total_sales,\n",
        "    SUM(quantity) AS total_quantity\n",
        "FROM sales_and_regions\n",
        "WHERE product_id = 241\n",
        "GROUP BY region_name\n",
        "\"\"\"\n",
        "\n",
        "# SQL sorgusunu çalıştırma ve sonucu gösterme\n",
        "jacket_sales_sql = spark.sql(sql_query)\n",
        "jacket_sales_sql.show()\n"
      ],
      "metadata": {
        "colab": {
          "base_uri": "https://localhost:8080/"
        },
        "id": "HJNZ06ApEL0a",
        "outputId": "070922f0-b19e-40c1-d24b-653f92c32ee9"
      },
      "execution_count": null,
      "outputs": [
        {
          "output_type": "stream",
          "name": "stdout",
          "text": [
            "+-----------------+-----------+--------------+\n",
            "|      region_name|total_sales|total_quantity|\n",
            "+-----------------+-----------+--------------+\n",
            "|Guneydogu Anadolu|       1344|            42|\n",
            "|       Ic Anadolu|        832|            26|\n",
            "|     Dogu Anadolu|         96|             3|\n",
            "+-----------------+-----------+--------------+\n",
            "\n"
          ]
        }
      ]
    },
    {
      "cell_type": "code",
      "source": [
        "# Bölgeye göre toplam ciroyu hesaplama\n",
        "total_sales_per_region = sale_df.groupBy('retailer_id').agg({'total_amt': 'sum'}).withColumnRenamed('sum(total_amt)', 'total_sales')\n",
        "\n",
        "# Her bölgenin adını almak için region_df ile birleştirme\n",
        "total_sales_with_region = total_sales_per_region.join(region_df, total_sales_per_region.retailer_id == region_df.city_id, 'inner')\n",
        "\n",
        "# En yüksek toplam ciroyu bulma\n",
        "max_turnover_region = total_sales_with_region.orderBy('total_sales', ascending=False).limit(1)\n",
        "\n",
        "# Sonucu gösterme\n",
        "max_turnover_region.show()\n"
      ],
      "metadata": {
        "colab": {
          "base_uri": "https://localhost:8080/"
        },
        "id": "YKxTxpIiEyBd",
        "outputId": "7e7b3bdd-c808-4848-a98d-18ba154a914e"
      },
      "execution_count": null,
      "outputs": [
        {
          "output_type": "stream",
          "name": "stdout",
          "text": [
            "+-----------+-----------+-------+---------+-----------------+\n",
            "|retailer_id|total_sales|city_id|city_name|      region_name|\n",
            "+-----------+-----------+-------+---------+-----------------+\n",
            "|          2|     356278|      2| Adiyaman|Guneydogu Anadolu|\n",
            "+-----------+-----------+-------+---------+-----------------+\n",
            "\n"
          ]
        }
      ]
    },
    {
      "cell_type": "code",
      "source": [
        "# Veri çerçevelerini geçici görünümler olarak kaydetme\n",
        "sale_df.createOrReplaceTempView(\"sales\")\n",
        "region_df.createOrReplaceTempView(\"regions\")\n",
        "\n",
        "# SQL sorgusu ile bölgeye göre toplam ciroyu hesaplama\n",
        "sql_query = \"\"\"\n",
        "    SELECT\n",
        "        r.region_name,\n",
        "        SUM(s.total_amt) AS total_sales\n",
        "    FROM\n",
        "        sales s\n",
        "    JOIN\n",
        "        regions r ON s.retailer_id = r.city_id\n",
        "    GROUP BY\n",
        "        r.region_name\n",
        "    ORDER BY\n",
        "        total_sales DESC\n",
        "    LIMIT 1\n",
        "\"\"\"\n",
        "\n",
        "# SQL sorgusunu çalıştırma ve sonucu gösterme\n",
        "max_turnover_region_sql = spark.sql(sql_query)\n",
        "max_turnover_region_sql.show()\n"
      ],
      "metadata": {
        "colab": {
          "base_uri": "https://localhost:8080/"
        },
        "id": "GCrW_4WzFFNS",
        "outputId": "f0fc1a21-f218-462f-c55d-f57639cbb482"
      },
      "execution_count": null,
      "outputs": [
        {
          "output_type": "stream",
          "name": "stdout",
          "text": [
            "+-----------------+-----------+\n",
            "|      region_name|total_sales|\n",
            "+-----------------+-----------+\n",
            "|Guneydogu Anadolu|     356278|\n",
            "+-----------------+-----------+\n",
            "\n"
          ]
        }
      ]
    }
  ]
}